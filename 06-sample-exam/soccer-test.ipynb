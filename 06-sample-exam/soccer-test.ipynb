{
 "cells": [
  {
   "cell_type": "code",
   "execution_count": 2,
   "id": "a657a384",
   "metadata": {},
   "outputs": [
    {
     "name": "stdout",
     "output_type": "stream",
     "text": [
      "                Name    Position             Club  Goals\n",
      "0       Lionel Messi     Forward      Inter Miami     30\n",
      "1  Cristiano Ronaldo     Forward         Al Nassr     25\n",
      "2      Harry Maguire    Defender          Man Utd     20\n",
      "3      Kylian Mbappe     Forward              PSG     18\n",
      "4    Kevin De Bruyne  Midfielder  Manchester City     22\n",
      "5    Virgil Van Dyck     Forward        Liverpool     28\n",
      "            Goals\n",
      "Position         \n",
      "Defender       28\n",
      "Forward        55\n",
      "Midfielder     22\n",
      "3\n"
     ]
    }
   ],
   "source": [
    "import pandas as pd\n",
    "\n",
    "data = [\n",
    "    ['Lionel Messi', 'Forward', 'Inter Miami', 30],\n",
    "    ['Cristiano Ronaldo', 'Forward', 'Al Nassr', 25],\n",
    "    ['Harry Maguire', 'Defender', 'Man Utd', 20],\n",
    "    ['Kylian Mbappe', 'Forward', 'PSG', 18],\n",
    "    ['Kevin De Bruyne', 'Midfielder', 'Manchester City', 22],\n",
    "    ['Virgil Van Dyck', 'Forward', 'Liverpool', 28],\n",
    "]\n",
    "\n",
    "df = pd.DataFrame(data, columns=[\"Name\", \"Position\", \"Club\", \"Goals\"])\n",
    "print(df)\n",
    "\n",
    "df.loc[df['Name'] == 'Virgil Van Dyck', 'Position'] = 'Defender'\n",
    "x = df[df[\"Position\"] == \"Defender\"]\n",
    "y = x[\"Goals\"].min()\n",
    "\n",
    "df = df[df[\"Goals\"] > y]\n",
    "group_df = df.groupby(\"Position\").sum(\"Goals\")\n",
    "\n",
    "print(group_df)\n",
    "print(group_df.size)"
   ]
  }
 ],
 "metadata": {
  "kernelspec": {
   "display_name": "Python 3",
   "language": "python",
   "name": "python3"
  },
  "language_info": {
   "codemirror_mode": {
    "name": "ipython",
    "version": 3
   },
   "file_extension": ".py",
   "mimetype": "text/x-python",
   "name": "python",
   "nbconvert_exporter": "python",
   "pygments_lexer": "ipython3",
   "version": "3.12.6"
  }
 },
 "nbformat": 4,
 "nbformat_minor": 5
}
